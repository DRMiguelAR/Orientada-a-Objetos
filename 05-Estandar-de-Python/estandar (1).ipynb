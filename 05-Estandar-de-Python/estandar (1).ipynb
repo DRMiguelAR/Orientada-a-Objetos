{
 "cells": [
  {
   "cell_type": "markdown",
   "metadata": {},
   "source": [
    "# Librería Estándar de Python\n",
    "# Tipos de datos\n",
    "\n",
    "## Numéricos\n",
    "\n",
    "### Enteros\n",
    "```python\n",
    "a= 5\n",
    "c= 100000000001\n",
    "c= 100_000_000_001\n",
    "```\n",
    "\n",
    "### Flotantes\n",
    "Notación científica  \n",
    "$ 0.0001 = 1* 10^{-4} = 1e-4 $  \n",
    "$ 3.25* 10^2 = 325 = 3.25e2 $  \n",
    "\n",
    "```python\n",
    "b= 3.1416\n",
    "d= 1e-4\n",
    "```\n",
    "\n",
    "## Datos iterables\n",
    "\n",
    "### Cadenas\n",
    "\n",
    "```python\n",
    "s1= \"En un lugar de la Mancha\"\n",
    "s2= 'Me llamo Miguel'\n",
    "s3= \"Me llamo 'Miguel'\"\n",
    "s4= 'Tengo \"cientos\" de mascotas'\n",
    "```\n",
    "\n",
    "### Listas\n",
    "```python\n",
    "l1= [1, 2, 3]\n",
    "l2= [\"Enrique\", \"Manzanas\", 2, 115.5]\n",
    "l3= [ \"Enrique\", [2,7], [3,4,5] ]\n",
    "```"
   ]
  },
  {
   "cell_type": "code",
   "execution_count": 5,
   "metadata": {},
   "outputs": [
    {
     "name": "stdout",
     "output_type": "stream",
     "text": [
      "5\n",
      "3.1416\n",
      "1000\n",
      "0.0001\n"
     ]
    }
   ],
   "source": [
    "a= 5\n",
    "print(a)\n",
    "b= 3.1416\n",
    "print(b)\n",
    "c= 1_000\n",
    "print(c)\n",
    "d= 1e-4\n",
    "print(d)"
   ]
  },
  {
   "cell_type": "markdown",
   "metadata": {},
   "source": [
    "## Operaciones básicas\n",
    "- Suma: `a+b`\n",
    "- Resta: `a-b`\n",
    "- Multiplicación: `a*b`\n",
    "- División: `a/b`\n",
    "- Potencia: `a**b` __a__ elevado a la potencia __b__\n",
    "\n",
    "### División entera\n",
    "- Cociente: `a//b`\n",
    "- Residuo: `a%b`\n",
    "\n",
    "### Operaciones con iterables\n",
    "- Suma: `\"semi\"+ \"remolque\"`\n",
    "- Multiplicación: `\"abc\"*3`"
   ]
  },
  {
   "cell_type": "code",
   "execution_count": 34,
   "metadata": {},
   "outputs": [
    {
     "data": {
      "text/plain": [
       "'abcabcabc'"
      ]
     },
     "execution_count": 34,
     "metadata": {},
     "output_type": "execute_result"
    }
   ],
   "source": [
    "\"semi\"+ \"remolque\"\n",
    "\"abc\"*3"
   ]
  },
  {
   "cell_type": "markdown",
   "metadata": {},
   "source": [
    "# Estructuras de control\n",
    "## Condiciones\n",
    "### if\n",
    "\n",
    "```python\n",
    "if condicion:\n",
    "    operaciones\n",
    "```\n",
    "### if else\n",
    "```python\n",
    "if condicion:\n",
    "    operaciones\n",
    "else:\n",
    "    operaciones\n",
    "```\n",
    "\n",
    "### if elif else\n",
    "```python\n",
    "if condicion1:\n",
    "    operaciones\n",
    "elif condicion2:\n",
    "    operaciones\n",
    "...\n",
    "else:\n",
    "    operaciones\n",
    "```"
   ]
  },
  {
   "cell_type": "code",
   "execution_count": 24,
   "metadata": {},
   "outputs": [
    {
     "name": "stdout",
     "output_type": "stream",
     "text": [
      "a es igual a b\n"
     ]
    }
   ],
   "source": [
    "a= 1000\n",
    "b= 1_000\n",
    "if a<b:\n",
    "    print(\"a es menor que b\")\n",
    "elif a>b:\n",
    "    print(\"a es mayor que b\")\n",
    "else:\n",
    "    print(\"a es igual a b\")"
   ]
  },
  {
   "cell_type": "markdown",
   "metadata": {},
   "source": [
    "## Ciclos\n",
    "### while\n",
    "\n",
    "```python\n",
    "while condicion:\n",
    "    operaciones\n",
    "    ## No olvides actualizar la variable de control\n",
    "```\n",
    "```python\n",
    "while condición:\n",
    "    operaciones\n",
    "    if condición_de_paro:\n",
    "        break\n",
    "```"
   ]
  },
  {
   "cell_type": "code",
   "execution_count": 26,
   "metadata": {},
   "outputs": [
    {
     "name": "stdout",
     "output_type": "stream",
     "text": [
      "0\n",
      "1\n",
      "2\n"
     ]
    }
   ],
   "source": [
    "i=0\n",
    "while i<3:\n",
    "    print(i)\n",
    "    i= i+1 ## i++ no existe en python"
   ]
  },
  {
   "cell_type": "code",
   "execution_count": 28,
   "metadata": {},
   "outputs": [
    {
     "name": "stdout",
     "output_type": "stream",
     "text": [
      "0\n",
      "1\n",
      "2\n"
     ]
    }
   ],
   "source": [
    "i=0\n",
    "while True:\n",
    "    print(i)\n",
    "    i= i+1\n",
    "    if i==3:\n",
    "        break\n",
    "        "
   ]
  },
  {
   "cell_type": "markdown",
   "metadata": {},
   "source": [
    "### for\n",
    "`for` funciona más como un _\"para cada\"_ que como un _\"para\"_ \n",
    "\n",
    "```python\n",
    "for elemento in iterador:\n",
    "    operaciones con el elemento\n",
    "```"
   ]
  },
  {
   "cell_type": "code",
   "execution_count": 32,
   "metadata": {},
   "outputs": [
    {
     "name": "stdout",
     "output_type": "stream",
     "text": [
      "amor\n",
      "La letra actual es: a\n",
      "La letra actual es: m\n",
      "La letra actual es: o\n",
      "La letra actual es: r\n"
     ]
    }
   ],
   "source": [
    "s= \"amor\"\n",
    "print(s)\n",
    "\n",
    "for letra in s:\n",
    "    print(\"La letra actual es:\", letra)"
   ]
  },
  {
   "cell_type": "code",
   "execution_count": 37,
   "metadata": {},
   "outputs": [
    {
     "name": "stdout",
     "output_type": "stream",
     "text": [
      "1 -> 1\n",
      "2 -> 4\n",
      "6 -> 36\n"
     ]
    }
   ],
   "source": [
    "l= [1, 2, 6]\n",
    "for numero in l:\n",
    "    print(numero, \"->\", numero**2)"
   ]
  },
  {
   "cell_type": "code",
   "execution_count": 65,
   "metadata": {},
   "outputs": [
    {
     "name": "stdout",
     "output_type": "stream",
     "text": [
      "Carta: ['♥', 'As']\n",
      "Carta: ['♥', 2]\n",
      "Carta: ['♥', 3]\n",
      "Carta: ['♥', 'K']\n",
      "Carta: ['♦', 'As']\n",
      "Carta: ['♦', 2]\n",
      "Carta: ['♦', 3]\n",
      "Carta: ['♦', 'K']\n",
      "Carta: ['♠', 'As']\n",
      "Carta: ['♠', 2]\n",
      "Carta: ['♠', 3]\n",
      "Carta: ['♠', 'K']\n",
      "Carta: ['♣', 'As']\n",
      "Carta: ['♣', 2]\n",
      "Carta: ['♣', 3]\n",
      "Carta: ['♣', 'K']\n"
     ]
    }
   ],
   "source": [
    "## Ejemplo\n",
    "palos= [\"♥\", \"♦\", \"♠\", \"♣\"]\n",
    "numeros= [\"As\", 2, 3, \"K\"]\n",
    "\n",
    "baraja= []\n",
    "\n",
    "for palo in palos:\n",
    "    for numero in numeros:\n",
    "        carta= [palo, numero]\n",
    "        baraja= baraja + [carta]\n",
    "\n",
    "for carta in baraja:\n",
    "    print(\"Carta:\",carta)\n",
    "\n",
    "carta\n"
   ]
  },
  {
   "cell_type": "code",
   "execution_count": 56,
   "metadata": {},
   "outputs": [
    {
     "name": "stdout",
     "output_type": "stream",
     "text": [
      "[['♥', 2], ['♥', 3]]\n"
     ]
    }
   ],
   "source": [
    "baraja= []\n",
    "carta= [\"♥\",2]\n",
    "carta2= [\"♥\",3]\n",
    "\n",
    "baraja2= baraja+ [carta, carta2]\n",
    "print(baraja2)"
   ]
  },
  {
   "cell_type": "code",
   "execution_count": null,
   "metadata": {},
   "outputs": [],
   "source": []
  }
 ],
 "metadata": {
  "kernelspec": {
   "display_name": "Python 3",
   "language": "python",
   "name": "python3"
  },
  "language_info": {
   "codemirror_mode": {
    "name": "ipython",
    "version": 3
   },
   "file_extension": ".py",
   "mimetype": "text/x-python",
   "name": "python",
   "nbconvert_exporter": "python",
   "pygments_lexer": "ipython3",
   "version": "3.8.3"
  }
 },
 "nbformat": 4,
 "nbformat_minor": 4
}
